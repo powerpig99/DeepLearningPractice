{
 "cells": [
  {
   "cell_type": "code",
   "execution_count": 1,
   "metadata": {},
   "outputs": [
    {
     "name": "stderr",
     "output_type": "stream",
     "text": [
      "/opt/anaconda3/envs/deeplearningproject4/lib/python3.12/site-packages/torchvision/io/image.py:14: UserWarning: Failed to load image Python extension: 'dlopen(/opt/anaconda3/envs/deeplearningproject4/lib/python3.12/site-packages/torchvision/image.so, 0x0006): Library not loaded: @rpath/libjpeg.9.dylib\n",
      "  Referenced from: <367D4265-B20F-34BD-94EB-4F3EE47C385B> /opt/anaconda3/envs/deeplearningproject4/lib/python3.12/site-packages/torchvision/image.so\n",
      "  Reason: tried: '/opt/anaconda3/envs/deeplearningproject4/lib/python3.12/site-packages/torchvision/../../../libjpeg.9.dylib' (no such file), '/opt/anaconda3/envs/deeplearningproject4/lib/python3.12/site-packages/torchvision/../../../libjpeg.9.dylib' (no such file), '/opt/anaconda3/envs/deeplearningproject4/lib/python3.12/lib-dynload/../../libjpeg.9.dylib' (no such file), '/opt/anaconda3/envs/deeplearningproject4/bin/../lib/libjpeg.9.dylib' (no such file)'If you don't plan on using image functionality from `torchvision.io`, you can ignore this warning. Otherwise, there might be something wrong with your environment. Did you have `libjpeg` or `libpng` installed before building `torchvision` from source?\n",
      "  warn(\n"
     ]
    }
   ],
   "source": [
    "import torch\n",
    "import torch.nn as nn\n",
    "from torch.utils.data import DataLoader\n",
    "import torchvision.datasets as datasets\n",
    "import torchvision.transforms as transforms\n",
    "import numpy as np\n",
    "import matplotlib.pyplot as plt"
   ]
  },
  {
   "cell_type": "code",
   "execution_count": 3,
   "metadata": {},
   "outputs": [
    {
     "name": "stdout",
     "output_type": "stream",
     "text": [
      "Downloading IMDB dataset...\n",
      "Extracting IMDB dataset...\n"
     ]
    },
    {
     "name": "stderr",
     "output_type": "stream",
     "text": [
      "/var/folders/5k/98s1prfj6zjgkscx_x64q9cm0000gn/T/ipykernel_52606/3834158288.py:56: DeprecationWarning: Python 3.14 will, by default, filter extracted tar archives and reject files or modify their metadata. Use the filter argument to control this behavior.\n",
      "  tar.extractall('./data')\n"
     ]
    },
    {
     "name": "stdout",
     "output_type": "stream",
     "text": [
      "Sample Label: Positive\n",
      "Sample Text (first 20 words): ['<unk>', 'are', 'of', 'is', 'the', 'and', 'i', \"it's\", 'which', 'ever', \"i've\", 'one', 'think', 'movies', 'seen', 'book', 'greatest', 'made,', 'better,']\n"
     ]
    }
   ],
   "source": [
    "import torch\n",
    "from torch.utils.data import DataLoader, Dataset\n",
    "import os\n",
    "import tarfile\n",
    "import urllib.request\n",
    "import numpy as np\n",
    "import matplotlib.pyplot as plt\n",
    "\n",
    "# Device configuration\n",
    "# device = torch.device('cuda' if torch.cuda.is_available() else 'cpu')\n",
    "device = torch.device('mps' if torch.backends.mps.is_available() else 'cpu')\n",
    "\n",
    "\n",
    "# Custom IMDB Dataset class\n",
    "class IMDBDataset(Dataset):\n",
    "    def __init__(self, root_dir, vocab, max_len=200):\n",
    "        self.root_dir = root_dir\n",
    "        self.vocab = vocab\n",
    "        self.max_len = max_len\n",
    "        self.data = []\n",
    "        for label in ['pos', 'neg']:\n",
    "            label_dir = os.path.join(root_dir, label)\n",
    "            label_idx = 1 if label == 'pos' else 0\n",
    "            for filename in os.listdir(label_dir):\n",
    "                if filename.endswith('.txt'):\n",
    "                    with open(os.path.join(label_dir, filename), 'r', encoding='utf-8') as f:\n",
    "                        text = f.read()\n",
    "                    indices = self.text_to_tensor(text)\n",
    "                    self.data.append((indices, label_idx))\n",
    "\n",
    "    def __len__(self):\n",
    "        return len(self.data)\n",
    "\n",
    "    def __getitem__(self, idx):\n",
    "        text, label = self.data[idx]\n",
    "        return text, label\n",
    "\n",
    "    def text_to_tensor(self, text):\n",
    "        words = text.lower().split()[:self.max_len]\n",
    "        indices = [self.vocab.get(word, 1) for word in words]  # 1 is <unk>\n",
    "        if len(indices) < self.max_len:\n",
    "            indices += [0] * (self.max_len - len(indices))  # 0 is <pad>\n",
    "        return torch.tensor(indices, dtype=torch.long)\n",
    "\n",
    "# Download and extract IMDB dataset\n",
    "data_url = 'http://ai.stanford.edu/~amaas/data/sentiment/aclImdb_v1.tar.gz'\n",
    "data_path = './data/aclImdb_v1.tar.gz'\n",
    "extracted_path = './data/aclImdb'\n",
    "\n",
    "if not os.path.exists(extracted_path):\n",
    "    os.makedirs('./data', exist_ok=True)\n",
    "    print(\"Downloading IMDB dataset...\")\n",
    "    urllib.request.urlretrieve(data_url, data_path)\n",
    "    print(\"Extracting IMDB dataset...\")\n",
    "    with tarfile.open(data_path, 'r:gz') as tar:\n",
    "        tar.extractall('./data')\n",
    "    os.remove(data_path)  # Clean up tar file\n",
    "\n",
    "# Build vocabulary from training data\n",
    "vocab_size = 10000\n",
    "max_len = 200\n",
    "word2idx = {'<pad>': 0, '<unk>': 1}\n",
    "\n",
    "train_dir = os.path.join(extracted_path, 'train')\n",
    "for label in ['pos', 'neg']:\n",
    "    label_dir = os.path.join(train_dir, label)\n",
    "    for filename in os.listdir(label_dir):\n",
    "        if filename.endswith('.txt'):\n",
    "            with open(os.path.join(label_dir, filename), 'r', encoding='utf-8') as f:\n",
    "                text = f.read()\n",
    "            for word in text.lower().split():\n",
    "                if word not in word2idx and len(word2idx) < vocab_size:\n",
    "                    word2idx[word] = len(word2idx)\n",
    "\n",
    "# Load datasets\n",
    "train_dataset = IMDBDataset(os.path.join(extracted_path, 'train'), word2idx, max_len)\n",
    "test_dataset = IMDBDataset(os.path.join(extracted_path, 'test'), word2idx, max_len)\n",
    "\n",
    "# Train/validation split\n",
    "train_size = int(0.8 * len(train_dataset))\n",
    "val_size = len(train_dataset) - train_size\n",
    "train_dataset, val_dataset = torch.utils.data.random_split(train_dataset, [train_size, val_size])\n",
    "\n",
    "# Data loaders\n",
    "batch_size = 32\n",
    "train_loader = DataLoader(train_dataset, batch_size=batch_size, shuffle=True)\n",
    "val_loader = DataLoader(val_dataset, batch_size=batch_size, shuffle=False)\n",
    "test_loader = DataLoader(test_dataset, batch_size=batch_size, shuffle=False)\n",
    "\n",
    "# Visualize a sample\n",
    "sample_text, sample_label = train_dataset[0]\n",
    "sample_words = [k for k, v in word2idx.items() if v in sample_text[:20]]\n",
    "print(f'Sample Label: {\"Positive\" if sample_label == 1 else \"Negative\"}')\n",
    "print(f'Sample Text (first 20 words): {sample_words}')"
   ]
  },
  {
   "cell_type": "code",
   "execution_count": 4,
   "metadata": {},
   "outputs": [],
   "source": [
    "class LSTMNet(nn.Module):\n",
    "    def __init__(self, vocab_size, embedding_dim, hidden_dim, output_dim):\n",
    "        super(LSTMNet, self).__init__()\n",
    "        self.embedding = nn.Embedding(vocab_size, embedding_dim, padding_idx=0)\n",
    "        self.lstm = nn.LSTM(embedding_dim, hidden_dim, batch_first=True)\n",
    "        self.fc = nn.Linear(hidden_dim, output_dim)\n",
    "\n",
    "    def forward(self, text):\n",
    "        embedded = self.embedding(text)  # [batch_size, seq_len, embedding_dim]\n",
    "        output, (hidden, cell) = self.lstm(embedded)  # hidden: [1, batch_size, hidden_dim]\n",
    "        return self.fc(hidden.squeeze(0))  # [batch_size, output_dim]\n",
    "\n",
    "# Hyperparameters\n",
    "embedding_dim = 32\n",
    "hidden_dim = 50\n",
    "output_dim = 1\n",
    "model = LSTMNet(vocab_size, embedding_dim, hidden_dim, output_dim).to(device)"
   ]
  },
  {
   "cell_type": "code",
   "execution_count": 5,
   "metadata": {},
   "outputs": [
    {
     "name": "stdout",
     "output_type": "stream",
     "text": [
      "Epoch [1/10], Train Loss: 0.6929, Val Loss: 0.6913\n",
      "Epoch [2/10], Train Loss: 0.6871, Val Loss: 0.6788\n",
      "Epoch [3/10], Train Loss: 0.6712, Val Loss: 0.6595\n",
      "Epoch [4/10], Train Loss: 0.6387, Val Loss: 0.7421\n",
      "Epoch [5/10], Train Loss: 0.6845, Val Loss: 0.6906\n",
      "Epoch [6/10], Train Loss: 0.6485, Val Loss: 0.6300\n",
      "Epoch [7/10], Train Loss: 0.6336, Val Loss: 0.6721\n",
      "Epoch [8/10], Train Loss: 0.5774, Val Loss: 0.6025\n",
      "Epoch [9/10], Train Loss: 0.5713, Val Loss: 0.6901\n",
      "Epoch [10/10], Train Loss: 0.6197, Val Loss: 0.5910\n"
     ]
    },
    {
     "data": {
      "image/png": "[encoded data removed]",
      "text/plain": [
       "<Figure size 640x480 with 1 Axes>"
      ]
     },
     "metadata": {},
     "output_type": "display_data"
    }
   ],
   "source": [
    "# Loss and optimizer\n",
    "criterion = nn.BCEWithLogitsLoss()\n",
    "optimizer = torch.optim.Adam(model.parameters(), lr=0.001)\n",
    "\n",
    "# Training loop\n",
    "num_epochs = 10\n",
    "train_losses = []\n",
    "val_losses = []\n",
    "\n",
    "for epoch in range(num_epochs):\n",
    "    # Training phase\n",
    "    model.train()\n",
    "    train_loss = 0\n",
    "    for texts, labels in train_loader:\n",
    "        texts, labels = texts.to(device), labels.float().unsqueeze(1).to(device)\n",
    "        outputs = model(texts)\n",
    "        loss = criterion(outputs, labels)\n",
    "        train_loss += loss.item()\n",
    "\n",
    "        optimizer.zero_grad()\n",
    "        loss.backward()\n",
    "        optimizer.step()\n",
    "\n",
    "    avg_train_loss = train_loss / len(train_loader)\n",
    "    train_losses.append(avg_train_loss)\n",
    "\n",
    "    # Validation phase\n",
    "    model.eval()\n",
    "    val_loss = 0\n",
    "    with torch.no_grad():\n",
    "        for texts, labels in val_loader:\n",
    "            texts, labels = texts.to(device), labels.float().unsqueeze(1).to(device)\n",
    "            outputs = model(texts)\n",
    "            loss = criterion(outputs, labels)\n",
    "            val_loss += loss.item()\n",
    "\n",
    "    avg_val_loss = val_loss / len(val_loader)\n",
    "    val_losses.append(avg_val_loss)\n",
    "\n",
    "    print(f'Epoch [{epoch+1}/{num_epochs}], Train Loss: {avg_train_loss:.4f}, Val Loss: {avg_val_loss:.4f}')\n",
    "\n",
    "# Plot losses\n",
    "plt.plot(train_losses, label='Train Loss')\n",
    "plt.plot(val_losses, label='Validation Loss')\n",
    "plt.xlabel('Epoch')\n",
    "plt.ylabel('Loss')\n",
    "plt.legend()\n",
    "plt.show()"
   ]
  },
  {
   "cell_type": "code",
   "execution_count": 6,
   "metadata": {},
   "outputs": [
    {
     "name": "stdout",
     "output_type": "stream",
     "text": [
      "Test Accuracy: 65.31%\n"
     ]
    }
   ],
   "source": [
    "# Test the model\n",
    "model.eval()\n",
    "with torch.no_grad():\n",
    "    correct = 0\n",
    "    total = 0\n",
    "    for texts, labels in test_loader:\n",
    "        texts, labels = texts.to(device), labels.float().unsqueeze(1).to(device)\n",
    "        outputs = model(texts)\n",
    "        predicted = (torch.sigmoid(outputs) > 0.5).float()\n",
    "        total += labels.size(0)\n",
    "        correct += (predicted == labels).sum().item()\n",
    "\n",
    "    accuracy = 100 * correct / total\n",
    "    print(f'Test Accuracy: {accuracy:.2f}%')"
   ]
  },
  {
   "cell_type": "code",
   "execution_count": null,
   "metadata": {},
   "outputs": [],
   "source": []
  }
 ],
 "metadata": {
  "kernelspec": {
   "display_name": "deeplearningproject4",
   "language": "python",
   "name": "python3"
  },
  "language_info": {
   "codemirror_mode": {
    "name": "ipython",
    "version": 3
   },
   "file_extension": ".py",
   "mimetype": "text/x-python",
   "name": "python",
   "nbconvert_exporter": "python",
   "pygments_lexer": "ipython3",
   "version": "3.12.7"
  }
 },
 "nbformat": 4,
 "nbformat_minor": 2
}
